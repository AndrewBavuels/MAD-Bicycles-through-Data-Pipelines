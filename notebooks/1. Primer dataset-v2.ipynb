{
 "cells": [
  {
   "cell_type": "markdown",
   "id": "f215e4b9",
   "metadata": {},
   "source": [
    "### 1. dev_notebook_biciMAD stations\n",
    "\n",
    "This is your development environment...you may start:\n",
    "- Exploring your data.\n",
    "- Testing the ad-hoc methods.\n",
    "- Designing your pipeline."
   ]
  },
  {
   "cell_type": "code",
   "execution_count": 1,
   "id": "a9844538",
   "metadata": {},
   "outputs": [
    {
     "data": {
      "text/html": [
       "<div>\n",
       "<style scoped>\n",
       "    .dataframe tbody tr th:only-of-type {\n",
       "        vertical-align: middle;\n",
       "    }\n",
       "\n",
       "    .dataframe tbody tr th {\n",
       "        vertical-align: top;\n",
       "    }\n",
       "\n",
       "    .dataframe thead th {\n",
       "        text-align: right;\n",
       "    }\n",
       "</style>\n",
       "<table border=\"1\" class=\"dataframe\">\n",
       "  <thead>\n",
       "    <tr style=\"text-align: right;\">\n",
       "      <th></th>\n",
       "      <th>\\tid\\tname\\tlight\\tnumber\\taddress\\tactivate\\tno_available\\ttotal_bases\\tdock_bikes\\tfree_bases\\treservations_count\\tgeometry.type\\tgeometry.coordinates</th>\n",
       "    </tr>\n",
       "  </thead>\n",
       "  <tbody>\n",
       "    <tr>\n",
       "      <th>0\\t1\\t1a - Puerta del Sol A\\t3\\t1a\\tPuerta del Sol nº 1\\t1\\t1\\t30\\t0\\t0\\t0\\tPoint\\t[-3.7018341</th>\n",
       "      <td>40.4172137]</td>\n",
       "    </tr>\n",
       "    <tr>\n",
       "      <th>1\\t2\\t1b - Puerta del Sol B\\t3\\t1b\\tPuerta del Sol nº 1\\t1\\t1\\t30\\t0\\t0\\t0\\tPoint\\t[-3.701602938060457</th>\n",
       "      <td>40.41731271011562]</td>\n",
       "    </tr>\n",
       "    <tr>\n",
       "      <th>2\\t3\\t2 - Miguel Moya\\t3\\t2\\tCalle Miguel Moya nº 1\\t1\\t1\\t24\\t0\\t0\\t0\\tPoint\\t[-3.7058415</th>\n",
       "      <td>40.4205886]</td>\n",
       "    </tr>\n",
       "    <tr>\n",
       "      <th>3\\t4\\t3 - Plaza Conde Suchil\\t2\\t3\\tPlaza del Conde del Valle de Súchil nº 3\\t1\\t0\\t18\\t9\\t9\\t0\\tPoint\\t[-3.7069171</th>\n",
       "      <td>40.4302937]</td>\n",
       "    </tr>\n",
       "    <tr>\n",
       "      <th>4\\t5\\t4 - Malasaña\\t1\\t4\\tCalle Manuela Malasaña nº 5\\t1\\t0\\t24\\t23\\t1\\t0\\tPoint\\t[-3.7025875</th>\n",
       "      <td>40.4285524]</td>\n",
       "    </tr>\n",
       "  </tbody>\n",
       "</table>\n",
       "</div>"
      ],
      "text/plain": [
       "                                                   \\tid\\tname\\tlight\\tnumber\\taddress\\tactivate\\tno_available\\ttotal_bases\\tdock_bikes\\tfree_bases\\treservations_count\\tgeometry.type\\tgeometry.coordinates\n",
       "0\\t1\\t1a - Puerta del Sol A\\t3\\t1a\\tPuerta del ...                                        40.4172137]                                                                                                      \n",
       "1\\t2\\t1b - Puerta del Sol B\\t3\\t1b\\tPuerta del ...                                 40.41731271011562]                                                                                                      \n",
       "2\\t3\\t2 - Miguel Moya\\t3\\t2\\tCalle Miguel Moya ...                                        40.4205886]                                                                                                      \n",
       "3\\t4\\t3 - Plaza Conde Suchil\\t2\\t3\\tPlaza del C...                                        40.4302937]                                                                                                      \n",
       "4\\t5\\t4 - Malasaña\\t1\\t4\\tCalle Manuela Malasañ...                                        40.4285524]                                                                                                      "
      ]
     },
     "execution_count": 1,
     "metadata": {},
     "output_type": "execute_result"
    }
   ],
   "source": [
    "import pandas as pd\n",
    "bicimad_df = pd.read_csv('./data/bicimad_stations.csv')\n",
    "bicimad_df.head()"
   ]
  },
  {
   "cell_type": "markdown",
   "id": "e5fcee9f",
   "metadata": {},
   "source": [
    "Al imprimir el dataframe, observo que están delimitados por '\\t'. Según la documentación [pandas.read_csv](https://pandas.pydata.org/docs/reference/api/pandas.read_csv.html) debo separar las columnas con `sep='\\t':`"
   ]
  },
  {
   "cell_type": "code",
   "execution_count": 2,
   "id": "c14370a9",
   "metadata": {},
   "outputs": [
    {
     "data": {
      "text/html": [
       "<div>\n",
       "<style scoped>\n",
       "    .dataframe tbody tr th:only-of-type {\n",
       "        vertical-align: middle;\n",
       "    }\n",
       "\n",
       "    .dataframe tbody tr th {\n",
       "        vertical-align: top;\n",
       "    }\n",
       "\n",
       "    .dataframe thead th {\n",
       "        text-align: right;\n",
       "    }\n",
       "</style>\n",
       "<table border=\"1\" class=\"dataframe\">\n",
       "  <thead>\n",
       "    <tr style=\"text-align: right;\">\n",
       "      <th></th>\n",
       "      <th>Unnamed: 0</th>\n",
       "      <th>id</th>\n",
       "      <th>name</th>\n",
       "      <th>light</th>\n",
       "      <th>number</th>\n",
       "      <th>address</th>\n",
       "      <th>activate</th>\n",
       "      <th>no_available</th>\n",
       "      <th>total_bases</th>\n",
       "      <th>dock_bikes</th>\n",
       "      <th>free_bases</th>\n",
       "      <th>reservations_count</th>\n",
       "      <th>geometry.type</th>\n",
       "      <th>geometry.coordinates</th>\n",
       "    </tr>\n",
       "  </thead>\n",
       "  <tbody>\n",
       "    <tr>\n",
       "      <th>262</th>\n",
       "      <td>262</td>\n",
       "      <td>268</td>\n",
       "      <td>260 - Facultad Biología</td>\n",
       "      <td>2</td>\n",
       "      <td>260</td>\n",
       "      <td>Calle José Antonio Novais frente al nº 12</td>\n",
       "      <td>1</td>\n",
       "      <td>0</td>\n",
       "      <td>24</td>\n",
       "      <td>12</td>\n",
       "      <td>10</td>\n",
       "      <td>0</td>\n",
       "      <td>Point</td>\n",
       "      <td>[-3.7272945, 40.4483322]</td>\n",
       "    </tr>\n",
       "    <tr>\n",
       "      <th>263</th>\n",
       "      <td>263</td>\n",
       "      <td>269</td>\n",
       "      <td>261 - Facultad Derecho</td>\n",
       "      <td>2</td>\n",
       "      <td>261</td>\n",
       "      <td>Avenida Complutense nº 23</td>\n",
       "      <td>1</td>\n",
       "      <td>0</td>\n",
       "      <td>24</td>\n",
       "      <td>8</td>\n",
       "      <td>16</td>\n",
       "      <td>0</td>\n",
       "      <td>Point</td>\n",
       "      <td>[-3.72937, 40.45109]</td>\n",
       "    </tr>\n",
       "  </tbody>\n",
       "</table>\n",
       "</div>"
      ],
      "text/plain": [
       "     Unnamed: 0   id                     name  light number  \\\n",
       "262         262  268  260 - Facultad Biología      2    260   \n",
       "263         263  269   261 - Facultad Derecho      2    261   \n",
       "\n",
       "                                       address  activate  no_available  \\\n",
       "262  Calle José Antonio Novais frente al nº 12         1             0   \n",
       "263                  Avenida Complutense nº 23         1             0   \n",
       "\n",
       "     total_bases  dock_bikes  free_bases  reservations_count geometry.type  \\\n",
       "262           24          12          10                   0         Point   \n",
       "263           24           8          16                   0         Point   \n",
       "\n",
       "         geometry.coordinates  \n",
       "262  [-3.7272945, 40.4483322]  \n",
       "263      [-3.72937, 40.45109]  "
      ]
     },
     "execution_count": 2,
     "metadata": {},
     "output_type": "execute_result"
    }
   ],
   "source": [
    "bicimad_df = pd.read_csv('./data/bicimad_stations.csv', sep='\\t')\n",
    "bicimad_df.tail(2)"
   ]
  },
  {
   "cell_type": "code",
   "execution_count": 3,
   "id": "7dac75b5",
   "metadata": {},
   "outputs": [
    {
     "name": "stdout",
     "output_type": "stream",
     "text": [
      "<class 'pandas.core.frame.DataFrame'>\n",
      "RangeIndex: 264 entries, 0 to 263\n",
      "Data columns (total 14 columns):\n",
      " #   Column                Non-Null Count  Dtype \n",
      "---  ------                --------------  ----- \n",
      " 0   Unnamed: 0            264 non-null    int64 \n",
      " 1   id                    264 non-null    int64 \n",
      " 2   name                  264 non-null    object\n",
      " 3   light                 264 non-null    int64 \n",
      " 4   number                264 non-null    object\n",
      " 5   address               264 non-null    object\n",
      " 6   activate              264 non-null    int64 \n",
      " 7   no_available          264 non-null    int64 \n",
      " 8   total_bases           264 non-null    int64 \n",
      " 9   dock_bikes            264 non-null    int64 \n",
      " 10  free_bases            264 non-null    int64 \n",
      " 11  reservations_count    264 non-null    int64 \n",
      " 12  geometry.type         264 non-null    object\n",
      " 13  geometry.coordinates  264 non-null    object\n",
      "dtypes: int64(9), object(5)\n",
      "memory usage: 29.0+ KB\n"
     ]
    }
   ],
   "source": [
    "bicimad_df.info()"
   ]
  },
  {
   "cell_type": "markdown",
   "id": "3f7eb2a2",
   "metadata": {},
   "source": [
    "1. Tenemos **14 columnas.** Solo necesitamos **3** de ellas:\n",
    "\n",
    "    - **name:** Nombre de la estación de biciMAD\n",
    "    - **address:** Dirección de la estación de biciMAD\n",
    "    - **geometry.coordinates:** Coordenadas (longitud y latitud) de la ubicación de biciMAD\n",
    "\n",
    "\n",
    "2. Tenemos **264 registros** de los cuales debemos revisar en las 3 columnas:\n",
    "\n",
    "    - Si hay **valores nulos** en las **3 columnas**\n",
    "    - Si hay **valores únicos** para la **estaciones biciMAD** y coincide con 264\n",
    "    - Si hay un **máximo** de 264 registros no nulos en la columna `address`\n",
    "    - Si hay un **máximo** de 264 registros no nulos en la columna `geometry.coordinates`"
   ]
  },
  {
   "cell_type": "markdown",
   "id": "69c61880",
   "metadata": {},
   "source": [
    "[Documentación Pandas Dataframes](https://pandas.pydata.org/docs/reference/api/pandas.DataFrame.html)"
   ]
  },
  {
   "cell_type": "markdown",
   "id": "95098fca",
   "metadata": {},
   "source": [
    "Contamos los registros de la columna 'name', revisando que haya una estación de biciMAD diferente para cada registro:"
   ]
  },
  {
   "cell_type": "markdown",
   "id": "76a16298",
   "metadata": {},
   "source": [
    "**1. Nombres de la estación de biciMAD ['name']**"
   ]
  },
  {
   "cell_type": "markdown",
   "id": "40a08e1d",
   "metadata": {},
   "source": [
    "[pandas.Series.value_counts](https://pandas.pydata.org/docs/reference/api/pandas.Series.value_counts.html): **.value_counts()** regresa una serie con el conteo de valores únicos, en orden descendiente (de mayor a menor). Excluye NA por defecto."
   ]
  },
  {
   "cell_type": "code",
   "execution_count": 4,
   "id": "165a83a8",
   "metadata": {},
   "outputs": [
    {
     "data": {
      "text/plain": [
       "name\n",
       "1a - Puerta del Sol A       1\n",
       "179 - Puente de Vallecas    1\n",
       "165 - Entrada Matadero      1\n",
       "166 - Segovia 26            1\n",
       "167 - Segovia 45            1\n",
       "                           ..\n",
       "94 - Biblioteca Nacional    1\n",
       "95 - Villanueva             1\n",
       "96 - Castelló               1\n",
       "97 - Alcalá                 1\n",
       "261 - Facultad Derecho      1\n",
       "Name: count, Length: 264, dtype: int64"
      ]
     },
     "execution_count": 4,
     "metadata": {},
     "output_type": "execute_result"
    }
   ],
   "source": [
    "bicimad_df['name'].value_counts()"
   ]
  },
  {
   "cell_type": "markdown",
   "id": "2796bd24",
   "metadata": {},
   "source": [
    "Para asegurarme, contaré con **.notnull()** los valores **NO nulos**, pasandoles de nuevo un **.value_counts()**"
   ]
  },
  {
   "cell_type": "code",
   "execution_count": 5,
   "id": "3fedafb4",
   "metadata": {},
   "outputs": [
    {
     "data": {
      "text/plain": [
       "name\n",
       "True    264\n",
       "Name: count, dtype: int64"
      ]
     },
     "execution_count": 5,
     "metadata": {},
     "output_type": "execute_result"
    }
   ],
   "source": [
    "# https://pandas.pydata.org/docs/reference/api/pandas.DataFrame.notnull.html\n",
    "bicimad_df['name'].notnull().value_counts()"
   ]
  },
  {
   "cell_type": "markdown",
   "id": "9d692bca",
   "metadata": {},
   "source": [
    "- Tenemos 264 estaciones distintas (sin repetir) de biciMAD, que era lo que estabamos esperando\n",
    "- NO hay valores nulos, puesto que hay **264 True**"
   ]
  },
  {
   "cell_type": "markdown",
   "id": "2430e302",
   "metadata": {},
   "source": [
    "**2. Direcciones de las estaciones de biciMAD ['address']**"
   ]
  },
  {
   "cell_type": "markdown",
   "id": "214a3bff",
   "metadata": {},
   "source": [
    "Contamos los registros de la columna 'address', revisando que hayan maximo 264 registros en direcciones. Pueden haber repetidos, puesto que puede haber más de una estación de biciMAD por dirección:"
   ]
  },
  {
   "cell_type": "code",
   "execution_count": 6,
   "id": "c0c68f41",
   "metadata": {},
   "outputs": [
    {
     "data": {
      "text/plain": [
       "address\n",
       "Puerta del Sol nº 1                2\n",
       "Calle Serrano nº 34                2\n",
       "Plaza de Celenque nº 1             2\n",
       "Calle Arcipreste de Hita nº 12     2\n",
       "Paseo de la Infanta Isabel nº 3    2\n",
       "                                  ..\n",
       "Paseo de Recoletos nº 20           1\n",
       "Calle Claudio Coello nº 109        1\n",
       "Calle Alcalá nº 111                1\n",
       "Avenida de Menéndez Pelayo nº 3    1\n",
       "Avenida Complutense nº 23          1\n",
       "Name: count, Length: 257, dtype: int64"
      ]
     },
     "execution_count": 6,
     "metadata": {},
     "output_type": "execute_result"
    }
   ],
   "source": [
    "bicimad_df['address'].value_counts()"
   ]
  },
  {
   "cell_type": "code",
   "execution_count": 7,
   "id": "45301626",
   "metadata": {},
   "outputs": [
    {
     "data": {
      "text/plain": [
       "address\n",
       "True    264\n",
       "Name: count, dtype: int64"
      ]
     },
     "execution_count": 7,
     "metadata": {},
     "output_type": "execute_result"
    }
   ],
   "source": [
    "bicimad_df['address'].notnull().value_counts()"
   ]
  },
  {
   "cell_type": "markdown",
   "id": "1a49118d",
   "metadata": {},
   "source": [
    "- El número de estaciones es **menor o igual a 264 (257)**\n",
    "- NO hay valores nulos, puesto que hay **264 True**"
   ]
  },
  {
   "cell_type": "markdown",
   "id": "cda9b34f",
   "metadata": {},
   "source": [
    "**3. Coordenadas (longitud y latitud) de la ubicación de biciMAD ['geometry.coordinates']**"
   ]
  },
  {
   "cell_type": "code",
   "execution_count": 8,
   "id": "6d78db4d",
   "metadata": {},
   "outputs": [
    {
     "data": {
      "text/plain": [
       "0                   [-3.7018341, 40.4172137]\n",
       "1    [-3.701602938060457, 40.41731271011562]\n",
       "Name: geometry.coordinates, dtype: object"
      ]
     },
     "execution_count": 8,
     "metadata": {},
     "output_type": "execute_result"
    }
   ],
   "source": [
    "bicimad_df['geometry.coordinates'].head(2)"
   ]
  },
  {
   "cell_type": "markdown",
   "id": "3092e38c",
   "metadata": {},
   "source": [
    "Reviso el primer elemento para tener idea que tipo de datos voy a analizar en la serie bicimad_df['geometry.coordinates']:"
   ]
  },
  {
   "cell_type": "code",
   "execution_count": 9,
   "id": "387ad585",
   "metadata": {},
   "outputs": [
    {
     "name": "stdout",
     "output_type": "stream",
     "text": [
      "[-3.7018341, 40.4172137]\n",
      "<class 'str'>\n"
     ]
    }
   ],
   "source": [
    "print(bicimad_df['geometry.coordinates'][0])\n",
    "print(type(bicimad_df['geometry.coordinates'][0]))"
   ]
  },
  {
   "cell_type": "code",
   "execution_count": 10,
   "id": "df44f2b4",
   "metadata": {},
   "outputs": [
    {
     "name": "stdout",
     "output_type": "stream",
     "text": [
      "<class 'pandas.core.series.Series'>\n",
      "RangeIndex: 264 entries, 0 to 263\n",
      "Series name: geometry.coordinates\n",
      "Non-Null Count  Dtype \n",
      "--------------  ----- \n",
      "264 non-null    object\n",
      "dtypes: object(1)\n",
      "memory usage: 2.2+ KB\n"
     ]
    }
   ],
   "source": [
    "bicimad_df['geometry.coordinates'].info()"
   ]
  },
  {
   "cell_type": "markdown",
   "id": "82a5f14c",
   "metadata": {},
   "source": [
    "Quiero asegurarme que cada dtype 'object' sea un string como el que he obtenido del primer elemento. \n",
    "\n",
    "Para la columna **bicimad_df['geometry.coordinates']** aplico una función lambda a cada uno de los elementos\n",
    "que he llamado 'coord', que me devuelva **True** con la función **isinstance(),** si todas las coordenadas son\n",
    "de tipo **str** y que me dé un total de **264.**\n",
    "\n",
    "- [pandas.DataFrame.apply](https://pandas.pydata.org/docs/reference/api/pandas.DataFrame.apply.html)\n",
    "- [Python Lambda](https://www.w3schools.com/python/python_lambda.asp)\n",
    "- [Python isinstance() Function](https://www.w3schools.com/python/ref_func_isinstance.asp)"
   ]
  },
  {
   "cell_type": "code",
   "execution_count": 11,
   "id": "8bdeb648",
   "metadata": {},
   "outputs": [
    {
     "data": {
      "text/plain": [
       "geometry.coordinates\n",
       "True    264\n",
       "Name: count, dtype: int64"
      ]
     },
     "execution_count": 11,
     "metadata": {},
     "output_type": "execute_result"
    }
   ],
   "source": [
    "bicimad_df['geometry.coordinates'].apply(lambda coord: isinstance(coord, str)).value_counts()"
   ]
  },
  {
   "cell_type": "markdown",
   "id": "a5ef20ff",
   "metadata": {},
   "source": [
    "Repetiré la misma verificación de las 2 anteriores columnas, con las coordenadas:"
   ]
  },
  {
   "cell_type": "code",
   "execution_count": 12,
   "id": "350ecba9",
   "metadata": {},
   "outputs": [
    {
     "data": {
      "text/plain": [
       "geometry.coordinates\n",
       "[-3.7018341, 40.4172137]    1\n",
       "[-3.66925, 40.3979722]      1\n",
       "[-3.6975708, 40.3928821]    1\n",
       "[-3.7135833, 40.4138333]    1\n",
       "[-3.717487, 40.413736]      1\n",
       "                           ..\n",
       "[-3.690756, 40.4232153]     1\n",
       "[-3.6870548, 40.4226584]    1\n",
       "[-3.6821793, 40.422064]     1\n",
       "[-3.6805189, 40.4222969]    1\n",
       "[-3.72937, 40.45109]        1\n",
       "Name: count, Length: 264, dtype: int64"
      ]
     },
     "execution_count": 12,
     "metadata": {},
     "output_type": "execute_result"
    }
   ],
   "source": [
    "bicimad_df['geometry.coordinates'].value_counts()"
   ]
  },
  {
   "cell_type": "markdown",
   "id": "5fdbf3f4",
   "metadata": {},
   "source": [
    "- Cada coordenada es **única,** dandome un total de **264**\n",
    "- El conteo de strings dió **264 True**, lo cual NO hay valores nulos"
   ]
  },
  {
   "cell_type": "markdown",
   "id": "8d060bac",
   "metadata": {},
   "source": [
    "### Modificando el dataframe con las 3 columnas relevantes"
   ]
  },
  {
   "cell_type": "code",
   "execution_count": 13,
   "id": "73b69339",
   "metadata": {},
   "outputs": [],
   "source": [
    "bicimad_df = bicimad_df[['name','address','geometry.coordinates']]"
   ]
  },
  {
   "cell_type": "code",
   "execution_count": 14,
   "id": "01f09c03",
   "metadata": {},
   "outputs": [
    {
     "data": {
      "text/html": [
       "<div>\n",
       "<style scoped>\n",
       "    .dataframe tbody tr th:only-of-type {\n",
       "        vertical-align: middle;\n",
       "    }\n",
       "\n",
       "    .dataframe tbody tr th {\n",
       "        vertical-align: top;\n",
       "    }\n",
       "\n",
       "    .dataframe thead th {\n",
       "        text-align: right;\n",
       "    }\n",
       "</style>\n",
       "<table border=\"1\" class=\"dataframe\">\n",
       "  <thead>\n",
       "    <tr style=\"text-align: right;\">\n",
       "      <th></th>\n",
       "      <th>name</th>\n",
       "      <th>address</th>\n",
       "      <th>geometry.coordinates</th>\n",
       "    </tr>\n",
       "  </thead>\n",
       "  <tbody>\n",
       "    <tr>\n",
       "      <th>0</th>\n",
       "      <td>1a - Puerta del Sol A</td>\n",
       "      <td>Puerta del Sol nº 1</td>\n",
       "      <td>[-3.7018341, 40.4172137]</td>\n",
       "    </tr>\n",
       "    <tr>\n",
       "      <th>1</th>\n",
       "      <td>1b - Puerta del Sol B</td>\n",
       "      <td>Puerta del Sol nº 1</td>\n",
       "      <td>[-3.701602938060457, 40.41731271011562]</td>\n",
       "    </tr>\n",
       "    <tr>\n",
       "      <th>2</th>\n",
       "      <td>2 - Miguel Moya</td>\n",
       "      <td>Calle Miguel Moya nº 1</td>\n",
       "      <td>[-3.7058415, 40.4205886]</td>\n",
       "    </tr>\n",
       "    <tr>\n",
       "      <th>3</th>\n",
       "      <td>3 - Plaza Conde Suchil</td>\n",
       "      <td>Plaza del Conde del Valle de Súchil nº 3</td>\n",
       "      <td>[-3.7069171, 40.4302937]</td>\n",
       "    </tr>\n",
       "    <tr>\n",
       "      <th>4</th>\n",
       "      <td>4 - Malasaña</td>\n",
       "      <td>Calle Manuela Malasaña nº 5</td>\n",
       "      <td>[-3.7025875, 40.4285524]</td>\n",
       "    </tr>\n",
       "  </tbody>\n",
       "</table>\n",
       "</div>"
      ],
      "text/plain": [
       "                     name                                   address  \\\n",
       "0   1a - Puerta del Sol A                       Puerta del Sol nº 1   \n",
       "1   1b - Puerta del Sol B                       Puerta del Sol nº 1   \n",
       "2         2 - Miguel Moya                    Calle Miguel Moya nº 1   \n",
       "3  3 - Plaza Conde Suchil  Plaza del Conde del Valle de Súchil nº 3   \n",
       "4            4 - Malasaña               Calle Manuela Malasaña nº 5   \n",
       "\n",
       "                      geometry.coordinates  \n",
       "0                 [-3.7018341, 40.4172137]  \n",
       "1  [-3.701602938060457, 40.41731271011562]  \n",
       "2                 [-3.7058415, 40.4205886]  \n",
       "3                 [-3.7069171, 40.4302937]  \n",
       "4                 [-3.7025875, 40.4285524]  "
      ]
     },
     "execution_count": 14,
     "metadata": {},
     "output_type": "execute_result"
    }
   ],
   "source": [
    "bicimad_df.head()"
   ]
  },
  {
   "cell_type": "markdown",
   "id": "1c4ea0b7",
   "metadata": {},
   "source": [
    "Voy a guardar en una nueva variable **'coordinates_df',** el dataframe con la limpieza de la columna 'geometry.coordinates' con[.str.split()](https://pandas.pydata.org/pandas-docs/stable/reference/api/pandas.Series.str.split.html).\n",
    "\n",
    "El proceso será el siguiente:"
   ]
  },
  {
   "cell_type": "markdown",
   "id": "0d5f7b3b",
   "metadata": {},
   "source": [
    "1. Le quito los brackets con **.str.strip('[]')**\n",
    "2. Elimino las comas con **.str.split(',', expand=True)** para expandir a dos columnas\n",
    "3. Aplico el método **[.astype('float64')](https://pandas.pydata.org/docs/reference/api/pandas.DataFrame.astype.html)** para que los valores tengan formato float para Pandas\n",
    "\n",
    "Lo podemos ver a continuación con la nueva variable **'coordinates_df':**"
   ]
  },
  {
   "cell_type": "code",
   "execution_count": 15,
   "id": "ef52f27e",
   "metadata": {},
   "outputs": [
    {
     "data": {
      "text/html": [
       "<div>\n",
       "<style scoped>\n",
       "    .dataframe tbody tr th:only-of-type {\n",
       "        vertical-align: middle;\n",
       "    }\n",
       "\n",
       "    .dataframe tbody tr th {\n",
       "        vertical-align: top;\n",
       "    }\n",
       "\n",
       "    .dataframe thead th {\n",
       "        text-align: right;\n",
       "    }\n",
       "</style>\n",
       "<table border=\"1\" class=\"dataframe\">\n",
       "  <thead>\n",
       "    <tr style=\"text-align: right;\">\n",
       "      <th></th>\n",
       "      <th>0</th>\n",
       "      <th>1</th>\n",
       "    </tr>\n",
       "  </thead>\n",
       "  <tbody>\n",
       "    <tr>\n",
       "      <th>0</th>\n",
       "      <td>-3.701834</td>\n",
       "      <td>40.417214</td>\n",
       "    </tr>\n",
       "    <tr>\n",
       "      <th>1</th>\n",
       "      <td>-3.701603</td>\n",
       "      <td>40.417313</td>\n",
       "    </tr>\n",
       "    <tr>\n",
       "      <th>2</th>\n",
       "      <td>-3.705842</td>\n",
       "      <td>40.420589</td>\n",
       "    </tr>\n",
       "    <tr>\n",
       "      <th>3</th>\n",
       "      <td>-3.706917</td>\n",
       "      <td>40.430294</td>\n",
       "    </tr>\n",
       "    <tr>\n",
       "      <th>4</th>\n",
       "      <td>-3.702587</td>\n",
       "      <td>40.428552</td>\n",
       "    </tr>\n",
       "    <tr>\n",
       "      <th>...</th>\n",
       "      <td>...</td>\n",
       "      <td>...</td>\n",
       "    </tr>\n",
       "    <tr>\n",
       "      <th>259</th>\n",
       "      <td>-3.729970</td>\n",
       "      <td>40.438960</td>\n",
       "    </tr>\n",
       "    <tr>\n",
       "      <th>260</th>\n",
       "      <td>-3.726990</td>\n",
       "      <td>40.443750</td>\n",
       "    </tr>\n",
       "    <tr>\n",
       "      <th>261</th>\n",
       "      <td>-3.726930</td>\n",
       "      <td>40.443420</td>\n",
       "    </tr>\n",
       "    <tr>\n",
       "      <th>262</th>\n",
       "      <td>-3.727295</td>\n",
       "      <td>40.448332</td>\n",
       "    </tr>\n",
       "    <tr>\n",
       "      <th>263</th>\n",
       "      <td>-3.729370</td>\n",
       "      <td>40.451090</td>\n",
       "    </tr>\n",
       "  </tbody>\n",
       "</table>\n",
       "<p>264 rows × 2 columns</p>\n",
       "</div>"
      ],
      "text/plain": [
       "            0          1\n",
       "0   -3.701834  40.417214\n",
       "1   -3.701603  40.417313\n",
       "2   -3.705842  40.420589\n",
       "3   -3.706917  40.430294\n",
       "4   -3.702587  40.428552\n",
       "..        ...        ...\n",
       "259 -3.729970  40.438960\n",
       "260 -3.726990  40.443750\n",
       "261 -3.726930  40.443420\n",
       "262 -3.727295  40.448332\n",
       "263 -3.729370  40.451090\n",
       "\n",
       "[264 rows x 2 columns]"
      ]
     },
     "execution_count": 15,
     "metadata": {},
     "output_type": "execute_result"
    }
   ],
   "source": [
    "coordinates_df = bicimad_df['geometry.coordinates'].str.strip('[]').str.split(',', expand=True).astype('float64')\n",
    "coordinates_df"
   ]
  },
  {
   "cell_type": "markdown",
   "id": "d87bb8e6",
   "metadata": {},
   "source": [
    "Con **.str.split(',', expand=True)** me separa la columna 'geometry.coordinates' en 2.\n",
    "\n",
    "0 y 1 para **longitud y latitud,** respectivamente.\n",
    "\n",
    "El siguiente paso es [renombrar las columnas:](https://pandas.pydata.org/docs/reference/api/pandas.DataFrame.columns.html)"
   ]
  },
  {
   "cell_type": "code",
   "execution_count": 16,
   "id": "aa2eb1a3",
   "metadata": {},
   "outputs": [
    {
     "data": {
      "text/html": [
       "<div>\n",
       "<style scoped>\n",
       "    .dataframe tbody tr th:only-of-type {\n",
       "        vertical-align: middle;\n",
       "    }\n",
       "\n",
       "    .dataframe tbody tr th {\n",
       "        vertical-align: top;\n",
       "    }\n",
       "\n",
       "    .dataframe thead th {\n",
       "        text-align: right;\n",
       "    }\n",
       "</style>\n",
       "<table border=\"1\" class=\"dataframe\">\n",
       "  <thead>\n",
       "    <tr style=\"text-align: right;\">\n",
       "      <th></th>\n",
       "      <th>mad_long</th>\n",
       "      <th>mad_lat</th>\n",
       "    </tr>\n",
       "  </thead>\n",
       "  <tbody>\n",
       "    <tr>\n",
       "      <th>0</th>\n",
       "      <td>-3.701834</td>\n",
       "      <td>40.417214</td>\n",
       "    </tr>\n",
       "    <tr>\n",
       "      <th>1</th>\n",
       "      <td>-3.701603</td>\n",
       "      <td>40.417313</td>\n",
       "    </tr>\n",
       "    <tr>\n",
       "      <th>2</th>\n",
       "      <td>-3.705842</td>\n",
       "      <td>40.420589</td>\n",
       "    </tr>\n",
       "    <tr>\n",
       "      <th>3</th>\n",
       "      <td>-3.706917</td>\n",
       "      <td>40.430294</td>\n",
       "    </tr>\n",
       "    <tr>\n",
       "      <th>4</th>\n",
       "      <td>-3.702587</td>\n",
       "      <td>40.428552</td>\n",
       "    </tr>\n",
       "    <tr>\n",
       "      <th>...</th>\n",
       "      <td>...</td>\n",
       "      <td>...</td>\n",
       "    </tr>\n",
       "    <tr>\n",
       "      <th>259</th>\n",
       "      <td>-3.729970</td>\n",
       "      <td>40.438960</td>\n",
       "    </tr>\n",
       "    <tr>\n",
       "      <th>260</th>\n",
       "      <td>-3.726990</td>\n",
       "      <td>40.443750</td>\n",
       "    </tr>\n",
       "    <tr>\n",
       "      <th>261</th>\n",
       "      <td>-3.726930</td>\n",
       "      <td>40.443420</td>\n",
       "    </tr>\n",
       "    <tr>\n",
       "      <th>262</th>\n",
       "      <td>-3.727295</td>\n",
       "      <td>40.448332</td>\n",
       "    </tr>\n",
       "    <tr>\n",
       "      <th>263</th>\n",
       "      <td>-3.729370</td>\n",
       "      <td>40.451090</td>\n",
       "    </tr>\n",
       "  </tbody>\n",
       "</table>\n",
       "<p>264 rows × 2 columns</p>\n",
       "</div>"
      ],
      "text/plain": [
       "     mad_long    mad_lat\n",
       "0   -3.701834  40.417214\n",
       "1   -3.701603  40.417313\n",
       "2   -3.705842  40.420589\n",
       "3   -3.706917  40.430294\n",
       "4   -3.702587  40.428552\n",
       "..        ...        ...\n",
       "259 -3.729970  40.438960\n",
       "260 -3.726990  40.443750\n",
       "261 -3.726930  40.443420\n",
       "262 -3.727295  40.448332\n",
       "263 -3.729370  40.451090\n",
       "\n",
       "[264 rows x 2 columns]"
      ]
     },
     "execution_count": 16,
     "metadata": {},
     "output_type": "execute_result"
    }
   ],
   "source": [
    "coordinates_df.columns = ['mad_long', 'mad_lat']\n",
    "coordinates_df"
   ]
  },
  {
   "cell_type": "markdown",
   "id": "2b23b261",
   "metadata": {},
   "source": [
    "**Concatenar los dataframes por columnas:** agregaré con `axis=1` las columnas de `coordinates_df` al principal `bicimad_df`con [pandas.concat](https://pandas.pydata.org/docs/reference/api/pandas.concat.html)"
   ]
  },
  {
   "cell_type": "code",
   "execution_count": 17,
   "id": "004b431f",
   "metadata": {},
   "outputs": [
    {
     "data": {
      "text/html": [
       "<div>\n",
       "<style scoped>\n",
       "    .dataframe tbody tr th:only-of-type {\n",
       "        vertical-align: middle;\n",
       "    }\n",
       "\n",
       "    .dataframe tbody tr th {\n",
       "        vertical-align: top;\n",
       "    }\n",
       "\n",
       "    .dataframe thead th {\n",
       "        text-align: right;\n",
       "    }\n",
       "</style>\n",
       "<table border=\"1\" class=\"dataframe\">\n",
       "  <thead>\n",
       "    <tr style=\"text-align: right;\">\n",
       "      <th></th>\n",
       "      <th>name</th>\n",
       "      <th>address</th>\n",
       "      <th>geometry.coordinates</th>\n",
       "      <th>mad_long</th>\n",
       "      <th>mad_lat</th>\n",
       "    </tr>\n",
       "  </thead>\n",
       "  <tbody>\n",
       "    <tr>\n",
       "      <th>0</th>\n",
       "      <td>1a - Puerta del Sol A</td>\n",
       "      <td>Puerta del Sol nº 1</td>\n",
       "      <td>[-3.7018341, 40.4172137]</td>\n",
       "      <td>-3.701834</td>\n",
       "      <td>40.417214</td>\n",
       "    </tr>\n",
       "    <tr>\n",
       "      <th>1</th>\n",
       "      <td>1b - Puerta del Sol B</td>\n",
       "      <td>Puerta del Sol nº 1</td>\n",
       "      <td>[-3.701602938060457, 40.41731271011562]</td>\n",
       "      <td>-3.701603</td>\n",
       "      <td>40.417313</td>\n",
       "    </tr>\n",
       "    <tr>\n",
       "      <th>2</th>\n",
       "      <td>2 - Miguel Moya</td>\n",
       "      <td>Calle Miguel Moya nº 1</td>\n",
       "      <td>[-3.7058415, 40.4205886]</td>\n",
       "      <td>-3.705842</td>\n",
       "      <td>40.420589</td>\n",
       "    </tr>\n",
       "    <tr>\n",
       "      <th>3</th>\n",
       "      <td>3 - Plaza Conde Suchil</td>\n",
       "      <td>Plaza del Conde del Valle de Súchil nº 3</td>\n",
       "      <td>[-3.7069171, 40.4302937]</td>\n",
       "      <td>-3.706917</td>\n",
       "      <td>40.430294</td>\n",
       "    </tr>\n",
       "    <tr>\n",
       "      <th>4</th>\n",
       "      <td>4 - Malasaña</td>\n",
       "      <td>Calle Manuela Malasaña nº 5</td>\n",
       "      <td>[-3.7025875, 40.4285524]</td>\n",
       "      <td>-3.702587</td>\n",
       "      <td>40.428552</td>\n",
       "    </tr>\n",
       "    <tr>\n",
       "      <th>...</th>\n",
       "      <td>...</td>\n",
       "      <td>...</td>\n",
       "      <td>...</td>\n",
       "      <td>...</td>\n",
       "      <td>...</td>\n",
       "    </tr>\n",
       "    <tr>\n",
       "      <th>259</th>\n",
       "      <td>257 - INEF</td>\n",
       "      <td>Avenida Juan de Herrera frente a la calle Paul...</td>\n",
       "      <td>[-3.72997, 40.43896]</td>\n",
       "      <td>-3.729970</td>\n",
       "      <td>40.438960</td>\n",
       "    </tr>\n",
       "    <tr>\n",
       "      <th>260</th>\n",
       "      <td>258 - Ciudad Universitaria 1</td>\n",
       "      <td>Avenida de la Complutense (Metro Ciudad Univer...</td>\n",
       "      <td>[-3.72699, 40.44375]</td>\n",
       "      <td>-3.726990</td>\n",
       "      <td>40.443750</td>\n",
       "    </tr>\n",
       "    <tr>\n",
       "      <th>261</th>\n",
       "      <td>259 - Ciudad Universitaria 2</td>\n",
       "      <td>Avenida de la Complutense (Metro Ciudad Univer...</td>\n",
       "      <td>[-3.72693, 40.44342]</td>\n",
       "      <td>-3.726930</td>\n",
       "      <td>40.443420</td>\n",
       "    </tr>\n",
       "    <tr>\n",
       "      <th>262</th>\n",
       "      <td>260 - Facultad Biología</td>\n",
       "      <td>Calle José Antonio Novais frente al nº 12</td>\n",
       "      <td>[-3.7272945, 40.4483322]</td>\n",
       "      <td>-3.727295</td>\n",
       "      <td>40.448332</td>\n",
       "    </tr>\n",
       "    <tr>\n",
       "      <th>263</th>\n",
       "      <td>261 - Facultad Derecho</td>\n",
       "      <td>Avenida Complutense nº 23</td>\n",
       "      <td>[-3.72937, 40.45109]</td>\n",
       "      <td>-3.729370</td>\n",
       "      <td>40.451090</td>\n",
       "    </tr>\n",
       "  </tbody>\n",
       "</table>\n",
       "<p>264 rows × 5 columns</p>\n",
       "</div>"
      ],
      "text/plain": [
       "                             name  \\\n",
       "0           1a - Puerta del Sol A   \n",
       "1           1b - Puerta del Sol B   \n",
       "2                 2 - Miguel Moya   \n",
       "3          3 - Plaza Conde Suchil   \n",
       "4                    4 - Malasaña   \n",
       "..                            ...   \n",
       "259                    257 - INEF   \n",
       "260  258 - Ciudad Universitaria 1   \n",
       "261  259 - Ciudad Universitaria 2   \n",
       "262       260 - Facultad Biología   \n",
       "263        261 - Facultad Derecho   \n",
       "\n",
       "                                               address  \\\n",
       "0                                  Puerta del Sol nº 1   \n",
       "1                                  Puerta del Sol nº 1   \n",
       "2                               Calle Miguel Moya nº 1   \n",
       "3             Plaza del Conde del Valle de Súchil nº 3   \n",
       "4                          Calle Manuela Malasaña nº 5   \n",
       "..                                                 ...   \n",
       "259  Avenida Juan de Herrera frente a la calle Paul...   \n",
       "260  Avenida de la Complutense (Metro Ciudad Univer...   \n",
       "261  Avenida de la Complutense (Metro Ciudad Univer...   \n",
       "262          Calle José Antonio Novais frente al nº 12   \n",
       "263                          Avenida Complutense nº 23   \n",
       "\n",
       "                        geometry.coordinates  mad_long    mad_lat  \n",
       "0                   [-3.7018341, 40.4172137] -3.701834  40.417214  \n",
       "1    [-3.701602938060457, 40.41731271011562] -3.701603  40.417313  \n",
       "2                   [-3.7058415, 40.4205886] -3.705842  40.420589  \n",
       "3                   [-3.7069171, 40.4302937] -3.706917  40.430294  \n",
       "4                   [-3.7025875, 40.4285524] -3.702587  40.428552  \n",
       "..                                       ...       ...        ...  \n",
       "259                     [-3.72997, 40.43896] -3.729970  40.438960  \n",
       "260                     [-3.72699, 40.44375] -3.726990  40.443750  \n",
       "261                     [-3.72693, 40.44342] -3.726930  40.443420  \n",
       "262                 [-3.7272945, 40.4483322] -3.727295  40.448332  \n",
       "263                     [-3.72937, 40.45109] -3.729370  40.451090  \n",
       "\n",
       "[264 rows x 5 columns]"
      ]
     },
     "execution_count": 17,
     "metadata": {},
     "output_type": "execute_result"
    }
   ],
   "source": [
    "bicimad_df = pd.concat([bicimad_df,coordinates_df],axis=1)\n",
    "bicimad_df"
   ]
  },
  {
   "cell_type": "markdown",
   "id": "cfa701a7",
   "metadata": {},
   "source": [
    "Elimino la columna **geometry.coordinates** con [pandas.DataFrame.drop](https://pandas.pydata.org/docs/reference/api/pandas.DataFrame.drop.html)"
   ]
  },
  {
   "cell_type": "code",
   "execution_count": 18,
   "id": "da8e74f8",
   "metadata": {},
   "outputs": [],
   "source": [
    "bicimad_df = bicimad_df.drop(columns=['geometry.coordinates'])"
   ]
  },
  {
   "cell_type": "markdown",
   "id": "f013f688",
   "metadata": {},
   "source": [
    "### Dataframe final de bicimad_df"
   ]
  },
  {
   "cell_type": "code",
   "execution_count": 19,
   "id": "966f2e03",
   "metadata": {},
   "outputs": [
    {
     "data": {
      "text/html": [
       "<div>\n",
       "<style scoped>\n",
       "    .dataframe tbody tr th:only-of-type {\n",
       "        vertical-align: middle;\n",
       "    }\n",
       "\n",
       "    .dataframe tbody tr th {\n",
       "        vertical-align: top;\n",
       "    }\n",
       "\n",
       "    .dataframe thead th {\n",
       "        text-align: right;\n",
       "    }\n",
       "</style>\n",
       "<table border=\"1\" class=\"dataframe\">\n",
       "  <thead>\n",
       "    <tr style=\"text-align: right;\">\n",
       "      <th></th>\n",
       "      <th>BiciMAD station</th>\n",
       "      <th>BiciMAD address</th>\n",
       "      <th>mad_long</th>\n",
       "      <th>mad_lat</th>\n",
       "    </tr>\n",
       "  </thead>\n",
       "  <tbody>\n",
       "    <tr>\n",
       "      <th>0</th>\n",
       "      <td>1a - Puerta del Sol A</td>\n",
       "      <td>Puerta del Sol nº 1</td>\n",
       "      <td>-3.701834</td>\n",
       "      <td>40.417214</td>\n",
       "    </tr>\n",
       "    <tr>\n",
       "      <th>1</th>\n",
       "      <td>1b - Puerta del Sol B</td>\n",
       "      <td>Puerta del Sol nº 1</td>\n",
       "      <td>-3.701603</td>\n",
       "      <td>40.417313</td>\n",
       "    </tr>\n",
       "    <tr>\n",
       "      <th>2</th>\n",
       "      <td>2 - Miguel Moya</td>\n",
       "      <td>Calle Miguel Moya nº 1</td>\n",
       "      <td>-3.705842</td>\n",
       "      <td>40.420589</td>\n",
       "    </tr>\n",
       "    <tr>\n",
       "      <th>3</th>\n",
       "      <td>3 - Plaza Conde Suchil</td>\n",
       "      <td>Plaza del Conde del Valle de Súchil nº 3</td>\n",
       "      <td>-3.706917</td>\n",
       "      <td>40.430294</td>\n",
       "    </tr>\n",
       "    <tr>\n",
       "      <th>4</th>\n",
       "      <td>4 - Malasaña</td>\n",
       "      <td>Calle Manuela Malasaña nº 5</td>\n",
       "      <td>-3.702587</td>\n",
       "      <td>40.428552</td>\n",
       "    </tr>\n",
       "    <tr>\n",
       "      <th>...</th>\n",
       "      <td>...</td>\n",
       "      <td>...</td>\n",
       "      <td>...</td>\n",
       "      <td>...</td>\n",
       "    </tr>\n",
       "    <tr>\n",
       "      <th>259</th>\n",
       "      <td>257 - INEF</td>\n",
       "      <td>Avenida Juan de Herrera frente a la calle Paul...</td>\n",
       "      <td>-3.729970</td>\n",
       "      <td>40.438960</td>\n",
       "    </tr>\n",
       "    <tr>\n",
       "      <th>260</th>\n",
       "      <td>258 - Ciudad Universitaria 1</td>\n",
       "      <td>Avenida de la Complutense (Metro Ciudad Univer...</td>\n",
       "      <td>-3.726990</td>\n",
       "      <td>40.443750</td>\n",
       "    </tr>\n",
       "    <tr>\n",
       "      <th>261</th>\n",
       "      <td>259 - Ciudad Universitaria 2</td>\n",
       "      <td>Avenida de la Complutense (Metro Ciudad Univer...</td>\n",
       "      <td>-3.726930</td>\n",
       "      <td>40.443420</td>\n",
       "    </tr>\n",
       "    <tr>\n",
       "      <th>262</th>\n",
       "      <td>260 - Facultad Biología</td>\n",
       "      <td>Calle José Antonio Novais frente al nº 12</td>\n",
       "      <td>-3.727295</td>\n",
       "      <td>40.448332</td>\n",
       "    </tr>\n",
       "    <tr>\n",
       "      <th>263</th>\n",
       "      <td>261 - Facultad Derecho</td>\n",
       "      <td>Avenida Complutense nº 23</td>\n",
       "      <td>-3.729370</td>\n",
       "      <td>40.451090</td>\n",
       "    </tr>\n",
       "  </tbody>\n",
       "</table>\n",
       "<p>264 rows × 4 columns</p>\n",
       "</div>"
      ],
      "text/plain": [
       "                  BiciMAD station  \\\n",
       "0           1a - Puerta del Sol A   \n",
       "1           1b - Puerta del Sol B   \n",
       "2                 2 - Miguel Moya   \n",
       "3          3 - Plaza Conde Suchil   \n",
       "4                    4 - Malasaña   \n",
       "..                            ...   \n",
       "259                    257 - INEF   \n",
       "260  258 - Ciudad Universitaria 1   \n",
       "261  259 - Ciudad Universitaria 2   \n",
       "262       260 - Facultad Biología   \n",
       "263        261 - Facultad Derecho   \n",
       "\n",
       "                                       BiciMAD address  mad_long    mad_lat  \n",
       "0                                  Puerta del Sol nº 1 -3.701834  40.417214  \n",
       "1                                  Puerta del Sol nº 1 -3.701603  40.417313  \n",
       "2                               Calle Miguel Moya nº 1 -3.705842  40.420589  \n",
       "3             Plaza del Conde del Valle de Súchil nº 3 -3.706917  40.430294  \n",
       "4                          Calle Manuela Malasaña nº 5 -3.702587  40.428552  \n",
       "..                                                 ...       ...        ...  \n",
       "259  Avenida Juan de Herrera frente a la calle Paul... -3.729970  40.438960  \n",
       "260  Avenida de la Complutense (Metro Ciudad Univer... -3.726990  40.443750  \n",
       "261  Avenida de la Complutense (Metro Ciudad Univer... -3.726930  40.443420  \n",
       "262          Calle José Antonio Novais frente al nº 12 -3.727295  40.448332  \n",
       "263                          Avenida Complutense nº 23 -3.729370  40.451090  \n",
       "\n",
       "[264 rows x 4 columns]"
      ]
     },
     "execution_count": 19,
     "metadata": {},
     "output_type": "execute_result"
    }
   ],
   "source": [
    "# Renombramos las columnas\n",
    "bicimad_df = bicimad_df.rename(columns={\"name\": \"BiciMAD station\",\n",
    "                          \"address\" : \"BiciMAD address\"})\n",
    "bicimad_df"
   ]
  },
  {
   "cell_type": "code",
   "execution_count": 20,
   "id": "7331de87",
   "metadata": {},
   "outputs": [
    {
     "name": "stdout",
     "output_type": "stream",
     "text": [
      "<class 'pandas.core.frame.DataFrame'>\n",
      "RangeIndex: 264 entries, 0 to 263\n",
      "Data columns (total 4 columns):\n",
      " #   Column           Non-Null Count  Dtype  \n",
      "---  ------           --------------  -----  \n",
      " 0   BiciMAD station  264 non-null    object \n",
      " 1   BiciMAD address  264 non-null    object \n",
      " 2   mad_long         264 non-null    float64\n",
      " 3   mad_lat          264 non-null    float64\n",
      "dtypes: float64(2), object(2)\n",
      "memory usage: 8.4+ KB\n"
     ]
    }
   ],
   "source": [
    "bicimad_df.info()"
   ]
  },
  {
   "cell_type": "markdown",
   "id": "b5a9c6b2",
   "metadata": {},
   "source": [
    "### Exportamos el .csv final de bicimad_stations (v2)"
   ]
  },
  {
   "cell_type": "code",
   "execution_count": 22,
   "id": "a386f407",
   "metadata": {},
   "outputs": [],
   "source": [
    "from pathlib import Path\n",
    "filepath = Path('./data/bicimad_stations.csv')  \n",
    "filepath.parent.mkdir(parents=True, exist_ok=True) \n",
    "bicimad_df.to_csv(filepath)"
   ]
  }
 ],
 "metadata": {
  "kernelspec": {
   "display_name": "Python (pm1)",
   "language": "python",
   "name": "pm1"
  },
  "language_info": {
   "codemirror_mode": {
    "name": "ipython",
    "version": 3
   },
   "file_extension": ".py",
   "mimetype": "text/x-python",
   "name": "python",
   "nbconvert_exporter": "python",
   "pygments_lexer": "ipython3",
   "version": "3.10.13"
  }
 },
 "nbformat": 4,
 "nbformat_minor": 5
}
