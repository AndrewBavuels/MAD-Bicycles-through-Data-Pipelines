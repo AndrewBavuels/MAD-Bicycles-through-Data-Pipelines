{
 "cells": [
  {
   "cell_type": "markdown",
   "id": "1d754287",
   "metadata": {},
   "source": [
    "# Argparse"
   ]
  },
  {
   "cell_type": "markdown",
   "id": "6ab18744",
   "metadata": {},
   "source": [
    "**Notas antes del argparse**\n",
    "\n",
    "\n",
    "- Libreria: Parsear flags prompt\n",
    "- Funcionalidad: Para lo siguiente se podría hacer un if/else\n",
    "- Sitio interés (1,5) => df_01\n",
    "- Todos los sitios de interes (x, 5) => df_02\n",
    "- Algoritmo para funcionalidad ==> Código que toca saber explicarlo (implementación):\n",
    "    - Puede construirse una condición if condition_01 == True: => devuelve df_01\n",
    "    - Puede construirse una condición elif condition_02 == True: => devuelve df_02\n",
    "\n",
    "**Main Objective**\n",
    "\n",
    "\n",
    "It must provide, at least, two options for the final user to select when executing using argparse:\n",
    "\n",
    "- **1.** To get the table for every 'Place of interest' included in the dataset (or a set of them)\n",
    "- **2.** To get the table for a specific 'Place of interest' imputed by the user.\n",
    "\n",
    "Para revisar y eliminar: => https://www.youtube.com/watch?v=ng-RYmDyE5A&ab_channel=episuarez"
   ]
  },
  {
   "cell_type": "markdown",
   "id": "c0fa1732",
   "metadata": {},
   "source": [
    "### Objetivo con el código (argparser)\n",
    "\n",
    "Darle al menos 2 opciones al usuario final para que pueda solucionar al ejecutarse con argparse:\n",
    "\n",
    "- **Opción #1:** Obtener tablar por cada sitio de interés incluidos en el dataset (o un conjunto de ellos). Ejemplo: Si quiere obtener sitios por **Instalaciones accesibles NO municipales** o **templos**\n",
    "- **Opción #2:** Obtener la tabla por sitio de interés específico (ingresado por el usuario)."
   ]
  },
  {
   "cell_type": "markdown",
   "id": "2211f398",
   "metadata": {},
   "source": [
    "## Caso practico: Ejemplo"
   ]
  },
  {
   "cell_type": "markdown",
   "id": "fc9d3f6c",
   "metadata": {},
   "source": [
    "#### Tener en cuenta, tanto para Bicimad como Bicipark:\n",
    "\n",
    "- Elegir el Bicimad/Bicipark como punto de **partida:**\n",
    "    - **Bicimad Station:** Estoy en 254 - Pío XII\n",
    "    - **Bicimad address:** En la dirección Avenida Pío XII nº 3"
   ]
  },
  {
   "cell_type": "markdown",
   "id": "9999a4bd",
   "metadata": {},
   "source": [
    "- **Punto de destino:** Quiero ir a Wizink Center"
   ]
  },
  {
   "cell_type": "markdown",
   "id": "bc69dc62",
   "metadata": {},
   "source": [
    "- ¿Donde está la estación de Bicimad más cercana al Wizink Center?\n",
    "    - **Bicimad Station:** Está la estación 62 - O'Donnell\n",
    "    - **Bicimad address:** Ubicada en la dirección Calle O'Donnell nº 50\n",
    "    - **Distance from station in mts:** A una distancia de 222.41 mts"
   ]
  },
  {
   "cell_type": "markdown",
   "id": "6e299a5f",
   "metadata": {},
   "source": [
    "# Ejemplo práctico argparse"
   ]
  },
  {
   "cell_type": "markdown",
   "id": "911d7321",
   "metadata": {},
   "source": [
    "### Código de Guille"
   ]
  },
  {
   "cell_type": "code",
   "execution_count": null,
   "id": "e13cef2e",
   "metadata": {},
   "outputs": [],
   "source": [
    "final_df_bicimad = pd.read_csv('bicimad_data.csv')\n",
    "\n",
    "\n",
    "import argparse\n",
    "import pandas as pd\n",
    "\n",
    "\n",
    "def encontrar_estacion_cercana(data, place):\n",
    "    # Limpiar el nombre del lugar\n",
    "    place = place.strip().lower()\n",
    "\n",
    "    # Filtrar datos por el place proporcionado\n",
    "    datos_lugar = data[data['place'].str.lower().str.strip() == place]\n",
    "\n",
    "    if datos_lugar.empty:\n",
    "        return None, None\n",
    "\n",
    "    # Encontrar la estación con la distancia mínima en el lugar proporcionado\n",
    "    estacion_cercana = datos_lugar.loc[datos_lugar['distance'].idxmin()]\n",
    "\n",
    "    return estacion_cercana['station_name'], estacion_cercana['distance']\n",
    "\n",
    "def main():\n",
    "    parser = argparse.ArgumentParser(description='Encuentra la estación más cercana en un place específico')\n",
    "    parser.add_argument('--archivo', required=True, help='Ruta al archivo CSV con datos de estaciones')\n",
    "    parser.add_argument('--place', required=True, help='Nombre del place para el cual deseas encontrar la estación más cercana')\n",
    "\n",
    "    args = parser.parse_args()\n",
    "\n",
    "    # Cargar datos desde el DataFrame df_final_bicimad\n",
    "    df_final_bicimad = pd.read_csv(args.archivo)\n",
    "    print(df_final_bicimad)  # Agrega esta línea para imprimir el DataFrame\n",
    "\n",
    "    # Encontrar la estación más cercana para el place especificado\n",
    "    estacion, distancia = encontrar_estacion_cercana(df_final_bicimad, args.place)\n",
    "\n",
    "    if estacion is None:\n",
    "        print(f'No se encontraron datos para el place \"{args.place}\".')\n",
    "    else:\n",
    "        print(f'La estación más cercana en el place \"{args.place}\" es \"{estacion}\" a una distancia de {distancia:.2f} km.')\n",
    "\n",
    "if __name__ == '__main__':\n",
    "    main()"
   ]
  },
  {
   "cell_type": "code",
   "execution_count": 5,
   "id": "2b936e82",
   "metadata": {},
   "outputs": [],
   "source": [
    "# https://www.youtube.com/watch?v=rwUVwxh5N74&ab_channel=UskoKruM2010"
   ]
  },
  {
   "cell_type": "code",
   "execution_count": 3,
   "id": "c4aecaf9",
   "metadata": {},
   "outputs": [],
   "source": [
    "# => https://www.youtube.com/watch?v=tirLko5urBo&t=187s&ab_channel=IsmaelRR\n",
    "\n",
    "import argparse # Importa el módulo argparse, que facilita la creación de interfaces de línea de comandos.\n",
    "import sys #  Importa el módulo sys, que proporciona funciones y variables que interactúan con el intérprete de Python.\n",
    "\n",
    "# Define la función principal del programa.\n",
    "def main():\n",
    "\n",
    "    # parser = argparse.ArgumentParser(): Especifica qué argumentos el programa aceptará desde la línea de comandos.\n",
    "    parser = argparse.ArgumentParser()\n",
    "\n",
    "    # parser.add_argument(): Se espera que el usuario proporcione un valor para --x y --y (usando la sintaxis -x también). El tipo de este argumento es un número de punto flotante (float), el valor predeterminado es 1.0, y se proporciona una descripción de ayuda.\n",
    "    parser.add_argument(\"--x\", type=float, default=1.0, help='Elige el primer numero para operar') # En la terminal al llamar, colocar -h\n",
    "    parser.add_argument(\"--y\", type=float, default=1.0, help='Elige el segundo numero para operar')\n",
    "\n",
    "    # Agrega un argumento para la operación a realizar. El tipo es una cadena (str), el valor predeterminado es '1.0', y se proporciona una descripción de ayuda.\n",
    "    parser.add_argument(\"--operation\", type=str, default=1.0, help='Elige la operación')\n",
    "\n",
    "    # Analiza los argumentos de la línea de comandos proporcionados por el usuario y almacena los valores en el objeto args.\n",
    "    args = parser.parse_args()\n",
    "\n",
    "    # Llama a la función calcular con los argumentos analizados y 'sys.stdout.write' escribe el resultado en la salida estándar (usualmente la pantalla).\n",
    "    sys.stdout.write(str(calcular(args)))\n",
    "\n",
    "\n",
    "def calcular(args):\n",
    "    \n",
    "    if args.operation == 'add':\n",
    "        resultado = args.x + args.y\n",
    "    if args.operation == 'div':\n",
    "        resultado = args.x / args.y\n",
    "    if args.operation == 'mul':\n",
    "        resultado = args.x * args.y\n",
    "    if args.operation == 'res':\n",
    "        resultado = args.x - args.y\n",
    "    return resultado\n",
    "\n",
    "#  Comprueba si el script está siendo ejecutado como el programa principal.\n",
    "if __name__=='__main__':\n",
    "    main()"
   ]
  },
  {
   "cell_type": "markdown",
   "id": "03dac23e",
   "metadata": {},
   "source": [
    "# Modelo de prueba"
   ]
  },
  {
   "cell_type": "code",
   "execution_count": null,
   "id": "734c3d43",
   "metadata": {},
   "outputs": [],
   "source": [
    "import argparse\n",
    "from biciMAD import bicimad_project_df\n",
    "from biciPARKS import biciparks_project_df\n",
    "\n",
    "def get_table_for_place_of_interest(df, condition):\n",
    "    # Filter the DataFrame based on the condition\n",
    "    result_df = df[df['Place of interest'].str.contains(condition, case=False, na=False)]\n",
    "    return result_df\n",
    "\n",
    "def main():\n",
    "    # Initialize the argument parser\n",
    "    parser = argparse.ArgumentParser(description=\"Retrieve tables based on Place of Interest\")\n",
    "\n",
    "    # Add arguments\n",
    "    parser.add_argument('--all', action='store_true', help='Get the table for every Place of interest in the dataset')\n",
    "    parser.add_argument('--specific', metavar='PLACE', type=str, help='Get the table for a specific Place of interest')\n",
    "\n",
    "    # Parse the command-line arguments\n",
    "    args = parser.parse_args()\n",
    "\n",
    "    # Check options and perform corresponding actions\n",
    "    if args.all:\n",
    "        print(\"Getting table for every Place of interest in the dataset:\")\n",
    "        result_df = get_table_for_place_of_interest(bicimad_project_df, \"your_condition_for_df_01\")\n",
    "        print(result_df)\n",
    "    elif args.specific:\n",
    "        print(f\"Getting table for the specific Place of interest: {args.specific}\")\n",
    "        result_df = get_table_for_place_of_interest(biciparks_project_df, args.specific)\n",
    "        print(result_df)\n",
    "    else:\n",
    "        print(\"Please provide valid options. Use --help for more information.\")\n",
    "\n",
    "if __name__ == '__main__':\n",
    "    main()"
   ]
  },
  {
   "cell_type": "markdown",
   "id": "e1a6e318",
   "metadata": {},
   "source": [
    "## Reciclaje de códigos"
   ]
  },
  {
   "cell_type": "code",
   "execution_count": null,
   "id": "d6d16ca8",
   "metadata": {},
   "outputs": [],
   "source": [
    "# Guille reloaded\n",
    "\n",
    "import argparse\n",
    "\n",
    "\n",
    "def encontrar_estacion_cercana(menu, lugar):\n",
    "    # Limpiar el nombre del lugar\n",
    "    lugar = lugar.strip().lower()\n",
    "\n",
    "    # Filtrar datos por el place proporcionado\n",
    "    lugar_interes = menu[menu['Place of interest'].str.lower().str.strip() == lugar]\n",
    "\n",
    "    if lugar_interes.empty:\n",
    "        return None, None\n",
    "\n",
    "    # Encontrar la estación con la distancia mínima en el lugar proporcionado\n",
    "    estacion_cercana = lugar_interes.loc[lugar_interes['Distance from parking in mts'].idxmin()]\n",
    "\n",
    "    return estacion_cercana['BiciPARK station'], estacion_cercana['Distance from parking in mts']\n",
    "\n",
    "\n",
    "def parsing():\n",
    "    parser = argparse.ArgumentParser(description='Encuentra la estación más cercana en un place específico')\n",
    "    parser.add_argument('--todas', action='store_true', help='Usa este argumento para tener información detodos los sitios')\n",
    "    parser.add_argument('--lugar', type=str, help='Usa este argumento para tener información de la estación más cercana')\n",
    "\n",
    "    args = parser.parse_args()\n",
    "    return args\n",
    "\n",
    "def main():\n",
    "    # Cargar datos desde el DataFrame bicimad_project_df\n",
    "    print(bicimad_project_df)  # Agrega esta línea para imprimir el DataFrame\n",
    "\n",
    "    # Encontrar la estación más cercana para el place especificado\n",
    "    estacion, distancia = encontrar_estacion_cercana(bicimad_project_df, args.lugar)\n",
    "\n",
    "    if estacion is None:\n",
    "        print(f'No se encontraron datos para el place \"{args.lugar}\".')\n",
    "    else:\n",
    "        print(f'La estación más cercana en el place \"{args.lugar}\" es \"{estacion}\" a una distancia de {distancia:.2f} km.')\n",
    "\n",
    "\n",
    "if __name__ == '__main__':\n",
    "    main()"
   ]
  },
  {
   "cell_type": "code",
   "execution_count": null,
   "id": "615dca36",
   "metadata": {},
   "outputs": [],
   "source": [
    "# ChatHDTPMGPT\n",
    "\n",
    "import argparse\n",
    "from biciMAD import bicimad_project_df\n",
    "from biciPARKS import biciparks_project_df\n",
    "\n",
    "def get_table_for_place_of_interest(df, condition_column, condition_value):\n",
    "    result_df = df[df[condition_column].str.contains(condition_value, case=False, na=False)]\n",
    "    return result_df.head(1) if not result_df.empty else result_df  # Devolver solo el primer registro si no está vacío\n",
    "\n",
    "def main():\n",
    "    parser = argparse.ArgumentParser(description='Get tables for BiciMAD and BiciPARKS datasets.')\n",
    "    parser.add_argument('--all', action='store_true', help='Get the table for every Place of interest in the dataset')\n",
    "    parser.add_argument('--specific', metavar='PLACE', type=str, help='Get the table for a specific Place of interest')\n",
    "\n",
    "    args = parser.parse_args()\n",
    "\n",
    "    if args.specific:\n",
    "        print(f\">------ Getting table for the specific Place of interest: {args.specific} ------<\")\n",
    "        specific_bicimad_df = get_table_for_place_of_interest(bicimad_project_df, 'Place of interest', args.specific)\n",
    "        print(specific_bicimad_df)\n",
    "    elif args.all:\n",
    "        print(\">------ Primeros registros de bicimad_project_df ------<\")\n",
    "        print(bicimad_project_df.head())\n",
    "    else:\n",
    "        print(\"Please provide valid options. Use --help for more information.\")\n",
    "\n",
    "if __name__ == '__main__':\n",
    "    main()"
   ]
  }
 ],
 "metadata": {
  "kernelspec": {
   "display_name": "Python (pm1)",
   "language": "python",
   "name": "pm1"
  },
  "language_info": {
   "codemirror_mode": {
    "name": "ipython",
    "version": 3
   },
   "file_extension": ".py",
   "mimetype": "text/x-python",
   "name": "python",
   "nbconvert_exporter": "python",
   "pygments_lexer": "ipython3",
   "version": "3.10.13"
  }
 },
 "nbformat": 4,
 "nbformat_minor": 5
}
